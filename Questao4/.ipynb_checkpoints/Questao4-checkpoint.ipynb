{
 "cells": [
  {
   "cell_type": "code",
   "execution_count": 13,
   "metadata": {},
   "outputs": [
    {
     "name": "stdout",
     "output_type": "stream",
     "text": [
      "optimal cost: \n",
      "20\n",
      "optimal way: \n",
      "['NY', 'NY', 'SF', 'SF']\n"
     ]
    }
   ],
   "source": [
    "\n",
    "\"\"\"SF = [10, 5, 10, 5]\n",
    "NY = [5, 15, 5, 4]\"\"\"\n",
    "\"\"\"SF = [99, 1, 100, 100]\n",
    "NY = [100, 1, 1, 100]\"\"\"\n",
    "\n",
    "SF = [50, 20, 2, 4]\n",
    "NY = [1, 3, 20, 30]\n",
    "C = 10\n",
    "\n",
    "array_SF = [0]\n",
    "array_SF[0] = SF[0]\n",
    "actual = 'SF'\n",
    "way_SF = [actual]\n",
    "\n",
    "for i in range(1, len(SF)):\n",
    "    if actual == 'SF':\n",
    "        array_SF.append(0)\n",
    "        if NY[i]+C >= SF[i]:\n",
    "            array_SF[i] = SF[i]+array_SF[i-1]\n",
    "        else:\n",
    "            array_SF[i] = NY[i]+C+array_SF[i-1]\n",
    "            actual = 'NY'\n",
    "    elif actual == 'NY':\n",
    "        array_SF.append(0)\n",
    "        if NY[i] <= SF[i]+C:\n",
    "            array_SF[i] = NY[i]+array_SF[i-1]\n",
    "        else:\n",
    "            array_SF[i] = SF[i]+C+array_SF[i-1]\n",
    "            actual = 'SF'\n",
    "    way_SF.append(actual)\n",
    "\n",
    "\n",
    "\n",
    "array_NY = [0]\n",
    "array_NY[0] = NY[0]\n",
    "actual = 'NY'\n",
    "way_NY = [actual]\n",
    "\n",
    "for i in range(1, len(NY)):\n",
    "    if actual == 'SF':\n",
    "        array_NY.append(0)\n",
    "        if NY[i]+C >= SF[i]:\n",
    "            array_NY[i] = SF[i]+array_NY[i-1]\n",
    "        else:\n",
    "            array_NY[i] = NY[i]+C+array_NY[i-1]\n",
    "            actual = 'NY'\n",
    "    elif actual == 'NY':\n",
    "        array_NY.append(0)\n",
    "        if NY[i] <= SF[i]+C:\n",
    "            array_NY[i] = NY[i]+array_NY[i-1]\n",
    "        else:\n",
    "            array_NY[i] = SF[i]+C+array_NY[i-1]\n",
    "            actual = 'SF'\n",
    "    way_NY.append(actual)\n",
    "    \n",
    "    \n",
    "print('optimal cost: ')\n",
    "if array_SF[-1] < array_NY[-1]:\n",
    "    print(array_SF[-1])\n",
    "    print('optimal way: ')\n",
    "    print(way_SF)\n",
    "else:\n",
    "    print(array_NY[-1])\n",
    "    print('optimal way: ')\n",
    "    print(way_NY)\n",
    "    \n",
    "    \n"
   ]
  }
 ],
 "metadata": {
  "kernelspec": {
   "display_name": "Python 3",
   "language": "python",
   "name": "python3"
  },
  "language_info": {
   "codemirror_mode": {
    "name": "ipython",
    "version": 3
   },
   "file_extension": ".py",
   "mimetype": "text/x-python",
   "name": "python",
   "nbconvert_exporter": "python",
   "pygments_lexer": "ipython3",
   "version": "3.7.3"
  }
 },
 "nbformat": 4,
 "nbformat_minor": 2
}
